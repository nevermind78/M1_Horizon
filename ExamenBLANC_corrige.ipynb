{
 "cells": [
  {
   "cell_type": "markdown",
   "metadata": {},
   "source": [
    "![title](data/Hor.png)"
   ]
  },
  {
   "cell_type": "markdown",
   "metadata": {},
   "source": [
    "**1**.(20 points)\n",
    "\n",
    "On considère le système linéaire suivant:\n",
    "\n",
    "$$(S) : \\quad\\left\\{\n",
    "\\begin{align*}\n",
    "2x_1& - x_2&    +x_x    &=& 6\\\\\n",
    "-x_1& +2x_2& -  x_3 &=& 2\\\\\n",
    " x_1   &  -x_2& + x_3 &=& 1\n",
    "\\end{align*}\\right.$$\n",
    "\n",
    "1. Trouver la notation matricielle du système $(S)$ sous la forme $Ax=b$ avec  $A$ et $b$ deux matrices que l'on implementera avec numpy. (5 points)\n",
    "2. Montrer que $A$ est inversible (5 points)\n",
    "3. Vérifier que $A$ possède une décomposition $LU$, résoudre le système $(S)$ en utilisiant cette décomposition (10 points)"
   ]
  },
  {
   "cell_type": "code",
   "execution_count": 2,
   "metadata": {},
   "outputs": [],
   "source": [
    "import numpy as np\n",
    "import scipy.linalg as la"
   ]
  },
  {
   "cell_type": "code",
   "execution_count": 6,
   "metadata": {},
   "outputs": [
    {
     "data": {
      "text/plain": [
       "array([[ 2, -1,  1],\n",
       "       [-1,  2, -1],\n",
       "       [ 1, -1,  1]])"
      ]
     },
     "execution_count": 6,
     "metadata": {},
     "output_type": "execute_result"
    }
   ],
   "source": [
    "# question 1\n",
    "A =np.array([[2,-1,1],[-1,2,-1],[1,-1,1]])\n",
    "A"
   ]
  },
  {
   "cell_type": "code",
   "execution_count": 11,
   "metadata": {},
   "outputs": [
    {
     "data": {
      "text/plain": [
       "array([[6],\n",
       "       [2],\n",
       "       [1]])"
      ]
     },
     "execution_count": 11,
     "metadata": {},
     "output_type": "execute_result"
    }
   ],
   "source": [
    "b = np.array([6,2,1]).reshape(3,1)\n",
    "b\n",
    "#b1=np.array([[6],[2],[1]])\n",
    "#b1"
   ]
  },
  {
   "cell_type": "code",
   "execution_count": 17,
   "metadata": {},
   "outputs": [
    {
     "data": {
      "text/plain": [
       "1.0"
      ]
     },
     "execution_count": 17,
     "metadata": {},
     "output_type": "execute_result"
    }
   ],
   "source": [
    "# question 2\n",
    "#np.linalg.det(A)\n",
    "la.det(A)"
   ]
  },
  {
   "cell_type": "code",
   "execution_count": 19,
   "metadata": {},
   "outputs": [
    {
     "data": {
      "text/plain": [
       "array([[1., 0., 0.],\n",
       "       [0., 1., 0.],\n",
       "       [0., 0., 1.]])"
      ]
     },
     "execution_count": 19,
     "metadata": {},
     "output_type": "execute_result"
    }
   ],
   "source": [
    "P, L, U = la.lu(A)\n",
    "P"
   ]
  },
  {
   "cell_type": "code",
   "execution_count": 20,
   "metadata": {},
   "outputs": [
    {
     "data": {
      "text/plain": [
       "array([[ 1.        ,  0.        ,  0.        ],\n",
       "       [-0.5       ,  1.        ,  0.        ],\n",
       "       [ 0.5       , -0.33333333,  1.        ]])"
      ]
     },
     "execution_count": 20,
     "metadata": {},
     "output_type": "execute_result"
    }
   ],
   "source": [
    "L"
   ]
  },
  {
   "cell_type": "code",
   "execution_count": 21,
   "metadata": {},
   "outputs": [
    {
     "data": {
      "text/plain": [
       "array([[ 2.        , -1.        ,  1.        ],\n",
       "       [ 0.        ,  1.5       , -0.5       ],\n",
       "       [ 0.        ,  0.        ,  0.33333333]])"
      ]
     },
     "execution_count": 21,
     "metadata": {},
     "output_type": "execute_result"
    }
   ],
   "source": [
    "U"
   ]
  },
  {
   "cell_type": "code",
   "execution_count": 22,
   "metadata": {},
   "outputs": [],
   "source": [
    "y = la.solve(L,b)"
   ]
  },
  {
   "cell_type": "code",
   "execution_count": 23,
   "metadata": {},
   "outputs": [
    {
     "data": {
      "text/plain": [
       "array([[ 6.        ],\n",
       "       [ 5.        ],\n",
       "       [-0.33333333]])"
      ]
     },
     "execution_count": 23,
     "metadata": {},
     "output_type": "execute_result"
    }
   ],
   "source": [
    "y"
   ]
  },
  {
   "cell_type": "code",
   "execution_count": 24,
   "metadata": {},
   "outputs": [],
   "source": [
    "x = la.solve(U,y)"
   ]
  },
  {
   "cell_type": "code",
   "execution_count": 25,
   "metadata": {},
   "outputs": [
    {
     "data": {
      "text/plain": [
       "array([[ 5.],\n",
       "       [ 3.],\n",
       "       [-1.]])"
      ]
     },
     "execution_count": 25,
     "metadata": {},
     "output_type": "execute_result"
    }
   ],
   "source": [
    "x"
   ]
  },
  {
   "cell_type": "code",
   "execution_count": 14,
   "metadata": {},
   "outputs": [
    {
     "data": {
      "text/plain": [
       "array([[ 5.],\n",
       "       [ 3.],\n",
       "       [-1.]])"
      ]
     },
     "execution_count": 14,
     "metadata": {},
     "output_type": "execute_result"
    }
   ],
   "source": [
    "la.inv(A).dot(b)"
   ]
  },
  {
   "cell_type": "code",
   "execution_count": 28,
   "metadata": {
    "scrolled": true
   },
   "outputs": [
    {
     "data": {
      "text/plain": [
       "array([[6.],\n",
       "       [2.],\n",
       "       [1.]])"
      ]
     },
     "execution_count": 28,
     "metadata": {},
     "output_type": "execute_result"
    }
   ],
   "source": [
    "A.dot(x)\n",
    "A @ x\n",
    "# A.x"
   ]
  },
  {
   "cell_type": "markdown",
   "metadata": {},
   "source": [
    "**2**. (20 points)\n",
    "\n",
    "On considére la séquence d'ADN suivante sous le format FASTA.\n",
    ">Le format FASTA est utilisé pour stocker une ou plusieurs séquences, d'ADN, d'ARN ou de protéines. La première ligne débute par le caractère > et contient une description de la séquence. On appelle souvent cette ligne « ligne de description » ou « ligne de commentaire »\n",
    "\n",
    "```python\n",
    "dna = '''> A simulated DNA sequence.\n",
    "TTAGGCAGTAACCCCGCGATAGGTAGAGCACGCAATCGTCAAGGCGTGCGGTAGGGCTTCCGTGTCTTACCCAAAGAAAC\n",
    "GACGTAACGTTCCCCGGGCGGTTAAACCAAATCCACTTCACCAACGGCATAACGCGAAGCCCAAACTAAATCGCGCTCGA\n",
    "GCGGACGCACATTCGCTAGGCTGTGTAGGGGCAGTCTCCGTTAAGGACGATTACCACGTGATGGTAGTTCGCAACATTGG\n",
    "ACTGTCGGGAATTCCCGAAGGCACTTAAGCGGAGTCTTAGCGTACAGTAACGCAGTCCCGCGTGAACGACTGACAGATGA\n",
    "'''\n",
    "```\n",
    "\n",
    "1. Supprimez la ligne de commentaire et combinez les 4 lignes de symboles nucléotidiques en une seule chaîne (4 points)\n",
    "2. Construire une matrice de transition de Markov empirique pour les probabilités de transition de n'importe quel nucléotide à n'importe quel autre nucléotide de cette chaîne (8 points)\n",
    "3. Trouver la distribution stationaire de cette chaine ( Utiliser les vecteurs propre de $M^T$) (8 points)"
   ]
  },
  {
   "cell_type": "code",
   "execution_count": 3,
   "metadata": {},
   "outputs": [
    {
     "data": {
      "text/plain": [
       "\"TTAGGCAGTAACCCCGCGATAGGTAGAGCACGCAATCGTCAAGGCGTGCGGTAGGGCTTCCGTGTCTTACCCAAAGAAACGACGTAACGTTCCCCGGGCGGTTAAACCAAATCCACTTCACCAACGGCATAACGCGAAGCCCAAACTAAATCGCGCTCGAGCGGACGCACATTCGCTAGGCTGTGTAGGGGCAGTCTCCGTTAAGGACGATTACCACGTGATGGTAGTTCGCAACATTGGACTGTCGGGAATTCCCGAAGGCACTTAAGCGGAGTCTTAGCGTACAGTAACGCAGTCCCGCGTGAACGACTGACAGATGA'\""
      ]
     },
     "execution_count": 3,
     "metadata": {},
     "output_type": "execute_result"
    }
   ],
   "source": [
    "dna = '''> A simulated DNA sequence.\n",
    "TTAGGCAGTAACCCCGCGATAGGTAGAGCACGCAATCGTCAAGGCGTGCGGTAGGGCTTCCGTGTCTTACCCAAAGAAAC\n",
    "GACGTAACGTTCCCCGGGCGGTTAAACCAAATCCACTTCACCAACGGCATAACGCGAAGCCCAAACTAAATCGCGCTCGA\n",
    "GCGGACGCACATTCGCTAGGCTGTGTAGGGGCAGTCTCCGTTAAGGACGATTACCACGTGATGGTAGTTCGCAACATTGG\n",
    "ACTGTCGGGAATTCCCGAAGGCACTTAAGCGGAGTCTTAGCGTACAGTAACGCAGTCCCGCGTGAACGACTGACAGATGA'\n",
    "'''\n",
    "seq =dna.split('\\n')[1:]\n",
    "res=''\n",
    "for ch in seq:\n",
    "    res=res+ch\n",
    "res"
   ]
  },
  {
   "cell_type": "code",
   "execution_count": 4,
   "metadata": {},
   "outputs": [
    {
     "data": {
      "text/plain": [
       "\"TTAGGCAGTAACCCCGCGATAGGTAGAGCACGCAATCGTCAAGGCGTGCGGTAGGGCTTCCGTGTCTTACCCAAAGAAACGACGTAACGTTCCCCGGGCGGTTAAACCAAATCCACTTCACCAACGGCATAACGCGAAGCCCAAACTAAATCGCGCTCGAGCGGACGCACATTCGCTAGGCTGTGTAGGGGCAGTCTCCGTTAAGGACGATTACCACGTGATGGTAGTTCGCAACATTGGACTGTCGGGAATTCCCGAAGGCACTTAAGCGGAGTCTTAGCGTACAGTAACGCAGTCCCGCGTGAACGACTGACAGATGA'\""
      ]
     },
     "execution_count": 4,
     "metadata": {},
     "output_type": "execute_result"
    }
   ],
   "source": [
    "seq = ''.join(dna.strip().split('\\n')[1:])\n",
    "seq"
   ]
  },
  {
   "cell_type": "code",
   "execution_count": 37,
   "metadata": {},
   "outputs": [
    {
     "data": {
      "text/plain": [
       "'abcd'"
      ]
     },
     "execution_count": 37,
     "metadata": {},
     "output_type": "execute_result"
    }
   ],
   "source": [
    "ch='   abcd  '\n",
    "ch=ch.strip()\n",
    "ch"
   ]
  },
  {
   "cell_type": "code",
   "execution_count": 34,
   "metadata": {},
   "outputs": [
    {
     "data": {
      "text/plain": [
       "array([[0., 0., 0., 0.],\n",
       "       [0., 0., 0., 0.],\n",
       "       [0., 0., 0., 0.],\n",
       "       [0., 0., 0., 0.]])"
      ]
     },
     "execution_count": 34,
     "metadata": {},
     "output_type": "execute_result"
    }
   ],
   "source": [
    "M=np.zeros((4,4))\n",
    "M"
   ]
  },
  {
   "cell_type": "code",
   "execution_count": 5,
   "metadata": {},
   "outputs": [
    {
     "data": {
      "text/plain": [
       "['TT', 'TA', 'AG', 'GG', 'GC']"
      ]
     },
     "execution_count": 5,
     "metadata": {},
     "output_type": "execute_result"
    }
   ],
   "source": [
    "#ch='akgdhdjdkdkdlkdldmlekrjakdkjdkaaa'\n",
    "#--->'ak','kg','gd','dh',...\n",
    "L=[]\n",
    "for i in range(len(seq)-1):\n",
    "    L.append(seq[i:i+2])\n",
    "L[:5]\n",
    "    "
   ]
  },
  {
   "cell_type": "code",
   "execution_count": 7,
   "metadata": {},
   "outputs": [
    {
     "data": {
      "text/plain": [
       "{'CG': 33,\n",
       " 'TG': 11,\n",
       " 'CT': 12,\n",
       " 'AG': 22,\n",
       " \"A'\": 1,\n",
       " 'TA': 19,\n",
       " 'CC': 20,\n",
       " 'AA': 26,\n",
       " 'AC': 25,\n",
       " 'GA': 19,\n",
       " 'GC': 24,\n",
       " 'GT': 23,\n",
       " 'GG': 22,\n",
       " 'CA': 21,\n",
       " 'AT': 11,\n",
       " 'TT': 14,\n",
       " 'TC': 17}"
      ]
     },
     "execution_count": 7,
     "metadata": {},
     "output_type": "execute_result"
    }
   ],
   "source": [
    "s=set(L)\n",
    "dic={u:L.count(u) for u in s}\n",
    "dic"
   ]
  },
  {
   "cell_type": "code",
   "execution_count": 36,
   "metadata": {},
   "outputs": [
    {
     "data": {
      "text/plain": [
       "Counter({('T', 'T'): 14,\n",
       "         ('T', 'A'): 19,\n",
       "         ('A', 'G'): 22,\n",
       "         ('G', 'G'): 22,\n",
       "         ('G', 'C'): 24,\n",
       "         ('C', 'A'): 21,\n",
       "         ('G', 'T'): 23,\n",
       "         ('A', 'A'): 26,\n",
       "         ('A', 'C'): 25,\n",
       "         ('C', 'C'): 20,\n",
       "         ('C', 'G'): 33,\n",
       "         ('G', 'A'): 19,\n",
       "         ('A', 'T'): 11,\n",
       "         ('T', 'C'): 17,\n",
       "         ('T', 'G'): 11,\n",
       "         ('C', 'T'): 12,\n",
       "         ('A', \"'\"): 1})"
      ]
     },
     "execution_count": 36,
     "metadata": {},
     "output_type": "execute_result"
    }
   ],
   "source": [
    "# Ecrire votre code içi\n",
    "#Première méthode\n",
    "# Esayer d'utiliser Counter ( from collections import Counter)"
   ]
  },
  {
   "cell_type": "code",
   "execution_count": 37,
   "metadata": {},
   "outputs": [
    {
     "data": {
      "text/plain": [
       "{('T', 'C'): 17,\n",
       " ('A', 'G'): 22,\n",
       " ('T', 'T'): 14,\n",
       " ('G', 'G'): 22,\n",
       " ('A', 'A'): 26,\n",
       " ('G', 'A'): 19,\n",
       " ('C', 'T'): 12,\n",
       " ('C', 'C'): 20,\n",
       " ('A', \"'\"): 1,\n",
       " ('C', 'A'): 21,\n",
       " ('G', 'T'): 23,\n",
       " ('C', 'G'): 33,\n",
       " ('G', 'C'): 24,\n",
       " ('A', 'C'): 25,\n",
       " ('T', 'A'): 19,\n",
       " ('A', 'T'): 11,\n",
       " ('T', 'G'): 11}"
      ]
     },
     "execution_count": 37,
     "metadata": {},
     "output_type": "execute_result"
    }
   ],
   "source": [
    "#Deuxième méthode utiliser Liste , ensemble et dictionnaire\n",
    "\n",
    "#s={__________________}\n",
    "#l=[_____________________]\n",
    "#dic={u:l.count(u) for u in s}\n",
    "#dic"
   ]
  },
  {
   "cell_type": "code",
   "execution_count": 32,
   "metadata": {},
   "outputs": [
    {
     "data": {
      "text/plain": [
       "array([[26., 25., 11., 22.],\n",
       "       [21., 20., 12., 33.],\n",
       "       [19., 17., 14., 11.],\n",
       "       [19., 24., 23., 22.]])"
      ]
     },
     "execution_count": 32,
     "metadata": {},
     "output_type": "execute_result"
    }
   ],
   "source": [
    "# Matrice des étas de transition non normalisée \n",
    "M = np.zeros((4,4))\n",
    "for i, x in enumerate('ACTG'):\n",
    "    #print(i,x)\n",
    "    for j, y in enumerate('ACTG'):\n",
    "        M[i, j] = dic[x+y]\n",
    "M"
   ]
  },
  {
   "cell_type": "code",
   "execution_count": 33,
   "metadata": {},
   "outputs": [
    {
     "data": {
      "text/plain": [
       "(array([[26., 25., 11., 22.],\n",
       "        [21., 20., 12., 33.],\n",
       "        [19., 17., 14., 11.],\n",
       "        [19., 24., 23., 22.]]),\n",
       " array([[84.],\n",
       "        [86.],\n",
       "        [61.],\n",
       "        [88.]]))"
      ]
     },
     "execution_count": 33,
     "metadata": {},
     "output_type": "execute_result"
    }
   ],
   "source": [
    "\n",
    "w=M.sum(axis=1).reshape(4,1)\n",
    "w\n",
    "M,w\n"
   ]
  },
  {
   "cell_type": "code",
   "execution_count": 34,
   "metadata": {},
   "outputs": [
    {
     "data": {
      "text/plain": [
       "array([[0.30952381, 0.29761905, 0.13095238, 0.26190476],\n",
       "       [0.24418605, 0.23255814, 0.13953488, 0.38372093],\n",
       "       [0.31147541, 0.27868852, 0.2295082 , 0.18032787],\n",
       "       [0.21590909, 0.27272727, 0.26136364, 0.25      ]])"
      ]
     },
     "execution_count": 34,
     "metadata": {},
     "output_type": "execute_result"
    }
   ],
   "source": [
    "res=np.zeros((4,4))\n",
    "res\n",
    "for i in range(0,4):\n",
    "    for j in range(0,4):\n",
    "        res[i,j]=M[i,j]/w[i]\n",
    "res\n"
   ]
  },
  {
   "cell_type": "code",
   "execution_count": 39,
   "metadata": {},
   "outputs": [
    {
     "name": "stdout",
     "output_type": "stream",
     "text": [
      "1.0\n",
      "1.0\n",
      "1.0\n",
      "1.0\n"
     ]
    }
   ],
   "source": [
    "for i in range(4):\n",
    "    print(res[i,:].sum())"
   ]
  },
  {
   "cell_type": "code",
   "execution_count": 41,
   "metadata": {},
   "outputs": [],
   "source": [
    "#Normalisation de la matrice==> matrice de la chaine de Markov Markov\n",
    "M = M/w\n"
   ]
  },
  {
   "cell_type": "code",
   "execution_count": 42,
   "metadata": {},
   "outputs": [
    {
     "data": {
      "text/plain": [
       "array([[0.30952381, 0.29761905, 0.13095238, 0.26190476],\n",
       "       [0.24418605, 0.23255814, 0.13953488, 0.38372093],\n",
       "       [0.31147541, 0.27868852, 0.2295082 , 0.18032787],\n",
       "       [0.21590909, 0.27272727, 0.26136364, 0.25      ]])"
      ]
     },
     "execution_count": 42,
     "metadata": {},
     "output_type": "execute_result"
    }
   ],
   "source": [
    "M"
   ]
  },
  {
   "cell_type": "code",
   "execution_count": 43,
   "metadata": {},
   "outputs": [
    {
     "data": {
      "text/plain": [
       "array([ 1.        +0.j       ,  0.03786645+0.0984321j,\n",
       "        0.03786645-0.0984321j, -0.05414276+0.j       ])"
      ]
     },
     "execution_count": 43,
     "metadata": {},
     "output_type": "execute_result"
    }
   ],
   "source": [
    "# Trouver la distribution stationnaire avec la méthode des vecteurs propres\n",
    "e, v = la.eig(M.T)\n",
    "e"
   ]
  },
  {
   "cell_type": "code",
   "execution_count": 44,
   "metadata": {},
   "outputs": [
    {
     "data": {
      "text/plain": [
       "array([[ 0.52737509+0.j        , -0.26318022-0.44557586j,\n",
       "        -0.26318022+0.44557586j,  0.40452326+0.j        ],\n",
       "       [ 0.533761  +0.j        , -0.08281119-0.03767378j,\n",
       "        -0.08281119+0.03767378j, -0.51932821+0.j        ],\n",
       "       [ 0.37172   +0.j        ,  0.63696557+0.j        ,\n",
       "         0.63696557-0.j        , -0.47178041+0.j        ],\n",
       "       [ 0.54662505+0.j        , -0.29097417+0.48324964j,\n",
       "        -0.29097417-0.48324964j,  0.58658536+0.j        ]])"
      ]
     },
     "execution_count": 44,
     "metadata": {},
     "output_type": "execute_result"
    }
   ],
   "source": [
    "v"
   ]
  },
  {
   "cell_type": "code",
   "execution_count": 45,
   "metadata": {},
   "outputs": [
    {
     "data": {
      "text/plain": [
       "array([0.52737509, 0.533761  , 0.37172   , 0.54662505])"
      ]
     },
     "execution_count": 45,
     "metadata": {},
     "output_type": "execute_result"
    }
   ],
   "source": [
    "# Trouver le vecteur propre réel associé à 1\n",
    "v = np.real_if_close(v[:, 0])\n",
    "v"
   ]
  },
  {
   "cell_type": "code",
   "execution_count": 46,
   "metadata": {},
   "outputs": [],
   "source": [
    "# Distribution stationnaire \n",
    "p =v/v.sum()"
   ]
  },
  {
   "cell_type": "code",
   "execution_count": 47,
   "metadata": {},
   "outputs": [
    {
     "data": {
      "text/plain": [
       "array([0.26642087, 0.26964692, 0.18778658, 0.27614562])"
      ]
     },
     "execution_count": 47,
     "metadata": {},
     "output_type": "execute_result"
    }
   ],
   "source": [
    "p"
   ]
  },
  {
   "cell_type": "code",
   "execution_count": 48,
   "metadata": {},
   "outputs": [
    {
     "data": {
      "text/plain": [
       "array([0.26642087, 0.26964692, 0.18778658, 0.27614562])"
      ]
     },
     "execution_count": 48,
     "metadata": {},
     "output_type": "execute_result"
    }
   ],
   "source": [
    "p @ M"
   ]
  },
  {
   "cell_type": "markdown",
   "metadata": {},
   "source": [
    "**3**. (20 points)\n",
    "\n",
    "Une laitière est au point A et doit se rendre au point B. Cependant, elle doit également remplir un seau d'eau de la rivière en route de A à B. L'équation du chemin de la rivière est illustrée dans la figure ci-dessous. Quelle est la distance minimale qu'elle doit parcourir pour faire cela ?\n",
    "\n",
    "1. Résoudre ce problème avec  `scipy.optimize` et la minimisation avec contraintes (15 points)\n",
    "2. Representer la solution (5 point)\n",
    "\n",
    "![Milkmaid problem](data/milkmaid.png)\n",
    "\n",
    "Hint: Il y a un optimum global et local pour ce problème "
   ]
  },
  {
   "cell_type": "code",
   "execution_count": 49,
   "metadata": {},
   "outputs": [],
   "source": [
    "import scipy.optimize as opt"
   ]
  },
  {
   "cell_type": "code",
   "execution_count": 57,
   "metadata": {},
   "outputs": [
    {
     "name": "stdout",
     "output_type": "stream",
     "text": [
      "Distance minimale 9.96339829938263\n"
     ]
    },
    {
     "data": {
      "text/plain": [
       "     fun: 9.96339829938263\n",
       "     jac: array([-1.65294075, -0.38807642])\n",
       " message: 'Optimization terminated successfully'\n",
       "    nfev: 68\n",
       "     nit: 18\n",
       "    njev: 18\n",
       "  status: 0\n",
       " success: True\n",
       "       x: array([0.53225962, 6.52630915])"
      ]
     },
     "execution_count": 57,
     "metadata": {},
     "output_type": "execute_result"
    }
   ],
   "source": [
    "### Compléter le code \n",
    "\n",
    "def f(M, A, B):\n",
    "    \"\"\"Distance entre deux points\"\"\"\n",
    "    return la.norm(M-A)+la.norm(M-B)\n",
    "\n",
    "def g(x):\n",
    "    \"\"\"Equation de la rivière \"\"\"\n",
    "    return 10/(1+x)\n",
    "\n",
    "A = np.array([2,8])\n",
    "B = np.array([8,4])\n",
    "t=np.linspace(0,10,50)\n",
    "cons = {'type': 'eq', 'fun': lambda x: x[1] - g(x[0])}\n",
    "\n",
    "ms = [opt.minimize(f, [x0, g(x0)], args=(A,B), constraints=cons) for x0 in t]\n",
    "m = min(ms, key=lambda res: res.fun)\n",
    "\n",
    "print(\"Distance minimale\", m.fun)\n",
    "m"
   ]
  },
  {
   "cell_type": "code",
   "execution_count": 58,
   "metadata": {},
   "outputs": [],
   "source": [
    "%matplotlib inline\n",
    "\n",
    "import matplotlib.pyplot as plt"
   ]
  },
  {
   "cell_type": "code",
   "execution_count": 72,
   "metadata": {},
   "outputs": [
    {
     "data": {
      "image/png": "[encoded data removed]",
      "text/plain": [
       "<Figure size 432x288 with 1 Axes>"
      ]
     },
     "metadata": {
      "needs_background": "light"
     },
     "output_type": "display_data"
    }
   ],
   "source": [
    "xp = np.linspace(0, 10, 100)\n",
    "plt.plot(xp, g(xp),label='rivière')\n",
    "plt.plot([A[0], m.x[0], B[0]], [A[1], m.x[1], B[1]], '-o', c='red',label='chemin')\n",
    "plt.xlabel('x')\n",
    "plt.ylabel('y')\n",
    "plt.legend()\n",
    "plt.text(2.2,8.2, 'A(2,8)', fontsize=12);\n",
    "plt.text(8.2,4.2, 'B(8,4)', fontsize=12);\n",
    "plt.text(m.x[0]+0.4,m.x[1]-0.1, 'M({:.2f},{:.2f})'.format(m.x[0],m.x[1]), fontsize=12);\n",
    "plt.text(1.2,2., r'$\\{x,\\dfrac{x}{x+10}\\}$', fontsize=12,c='b');"
   ]
  },
  {
   "cell_type": "code",
   "execution_count": null,
   "metadata": {},
   "outputs": [],
   "source": []
  }
 ],
 "metadata": {
  "kernelspec": {
   "display_name": "Python 3 (ipykernel)",
   "language": "python",
   "name": "python3"
  },
  "language_info": {
   "codemirror_mode": {
    "name": "ipython",
    "version": 3
   },
   "file_extension": ".py",
   "mimetype": "text/x-python",
   "name": "python",
   "nbconvert_exporter": "python",
   "pygments_lexer": "ipython3",
   "version": "3.7.12"
  }
 },
 "nbformat": 4,
 "nbformat_minor": 4
}
