{
 "cells": [
  {
   "cell_type": "markdown",
   "metadata": {},
   "source": [
    "<img src=\"data/hor.png\" width=800 height=800 />"
   ]
  },
  {
   "cell_type": "markdown",
   "metadata": {},
   "source": [
    "**1**.(20 points)\n",
    "\n",
    "On considère le système linéaire suivant:\n",
    "\n",
    "$$(S) : \\quad\\left\\{\n",
    "\\begin{align*}\n",
    "2x_1& - x_2&    +x_x    &=& 6\\\\\n",
    "-x_1& +2x_2& -  x_3 &=& 2\\\\\n",
    " x_1   &  -x_2& + x_3 &=& 1\n",
    "\\end{align*}\\right.$$\n",
    "\n",
    "1. Trouver la notation matricielle du système $(S)$ sous la forme $Ax=b$ avec  $A$ et $b$ deux matrices que l'on implementera avec numpy. (5 points)\n",
    "2. Montrer que $A$ est inversible (5 points)\n",
    "3. Vérifier que $A$ possède une décomposition $LU$, résoudre le système $(S)$ en utilisiant cette décomposition (10 points)"
   ]
  },
  {
   "cell_type": "code",
   "execution_count": 1,
   "metadata": {},
   "outputs": [],
   "source": [
    "import numpy as np\n",
    "import scipy.linalg as la"
   ]
  },
  {
   "cell_type": "code",
   "execution_count": 2,
   "metadata": {},
   "outputs": [],
   "source": [
    "A = np.array([\n",
    "    [2, -1, 1],\n",
    "    [-1, 2, -1],\n",
    "    [1, -1, 1]\n",
    "])"
   ]
  },
  {
   "cell_type": "code",
   "execution_count": 3,
   "metadata": {},
   "outputs": [],
   "source": [
    "b = np.array([6,2,1]).reshape(-1,1)"
   ]
  },
  {
   "cell_type": "code",
   "execution_count": 4,
   "metadata": {},
   "outputs": [
    {
     "data": {
      "text/plain": [
       "1.0"
      ]
     },
     "execution_count": 4,
     "metadata": {},
     "output_type": "execute_result"
    }
   ],
   "source": [
    "la.det(A)"
   ]
  },
  {
   "cell_type": "code",
   "execution_count": 6,
   "metadata": {},
   "outputs": [
    {
     "data": {
      "text/plain": [
       "array([[1., 0., 0.],\n",
       "       [0., 1., 0.],\n",
       "       [0., 0., 1.]])"
      ]
     },
     "execution_count": 6,
     "metadata": {},
     "output_type": "execute_result"
    }
   ],
   "source": [
    "P, L, U = la.lu(A)\n",
    "P"
   ]
  },
  {
   "cell_type": "code",
   "execution_count": 7,
   "metadata": {},
   "outputs": [
    {
     "data": {
      "text/plain": [
       "array([[ 1.        ,  0.        ,  0.        ],\n",
       "       [-0.5       ,  1.        ,  0.        ],\n",
       "       [ 0.5       , -0.33333333,  1.        ]])"
      ]
     },
     "execution_count": 7,
     "metadata": {},
     "output_type": "execute_result"
    }
   ],
   "source": [
    "L"
   ]
  },
  {
   "cell_type": "code",
   "execution_count": 8,
   "metadata": {},
   "outputs": [
    {
     "data": {
      "text/plain": [
       "array([[ 2.        , -1.        ,  1.        ],\n",
       "       [ 0.        ,  1.5       , -0.5       ],\n",
       "       [ 0.        ,  0.        ,  0.33333333]])"
      ]
     },
     "execution_count": 8,
     "metadata": {},
     "output_type": "execute_result"
    }
   ],
   "source": [
    "U"
   ]
  },
  {
   "cell_type": "code",
   "execution_count": 9,
   "metadata": {},
   "outputs": [],
   "source": [
    "y = la.solve_triangular(L, b, lower=True)"
   ]
  },
  {
   "cell_type": "code",
   "execution_count": 10,
   "metadata": {},
   "outputs": [
    {
     "data": {
      "text/plain": [
       "array([[ 6.        ],\n",
       "       [ 5.        ],\n",
       "       [-0.33333333]])"
      ]
     },
     "execution_count": 10,
     "metadata": {},
     "output_type": "execute_result"
    }
   ],
   "source": [
    "y"
   ]
  },
  {
   "cell_type": "code",
   "execution_count": 11,
   "metadata": {},
   "outputs": [],
   "source": [
    "x = la.solve_triangular(U, y, lower=False)"
   ]
  },
  {
   "cell_type": "code",
   "execution_count": 12,
   "metadata": {},
   "outputs": [
    {
     "data": {
      "text/plain": [
       "array([[ 5.],\n",
       "       [ 3.],\n",
       "       [-1.]])"
      ]
     },
     "execution_count": 12,
     "metadata": {},
     "output_type": "execute_result"
    }
   ],
   "source": [
    "x"
   ]
  },
  {
   "cell_type": "code",
   "execution_count": 14,
   "metadata": {},
   "outputs": [
    {
     "data": {
      "text/plain": [
       "array([[ 5.],\n",
       "       [ 3.],\n",
       "       [-1.]])"
      ]
     },
     "execution_count": 14,
     "metadata": {},
     "output_type": "execute_result"
    }
   ],
   "source": [
    "la.inv(A).dot(b)"
   ]
  },
  {
   "cell_type": "code",
   "execution_count": 17,
   "metadata": {},
   "outputs": [
    {
     "data": {
      "text/plain": [
       "(array([[6.],\n",
       "        [2.],\n",
       "        [1.]]),\n",
       " array([[6],\n",
       "        [2],\n",
       "        [1]]))"
      ]
     },
     "execution_count": 17,
     "metadata": {},
     "output_type": "execute_result"
    }
   ],
   "source": [
    "A @ x,b"
   ]
  },
  {
   "cell_type": "markdown",
   "metadata": {},
   "source": [
    "**2**. (20 points)\n",
    "\n",
    "On considére la séquence d'ADN suivante sous le format FASTA.\n",
    ">Le format FASTA est utilisé pour stocker une ou plusieurs séquences, d'ADN, d'ARN ou de protéines. La première ligne débute par le caractère > et contient une description de la séquence. On appelle souvent cette ligne « ligne de description » ou « ligne de commentaire »\n",
    "\n",
    "```python\n",
    "dna = '''> A simulated DNA sequence.\n",
    "TTAGGCAGTAACCCCGCGATAGGTAGAGCACGCAATCGTCAAGGCGTGCGGTAGGGCTTCCGTGTCTTACCCAAAGAAAC\n",
    "GACGTAACGTTCCCCGGGCGGTTAAACCAAATCCACTTCACCAACGGCATAACGCGAAGCCCAAACTAAATCGCGCTCGA\n",
    "GCGGACGCACATTCGCTAGGCTGTGTAGGGGCAGTCTCCGTTAAGGACGATTACCACGTGATGGTAGTTCGCAACATTGG\n",
    "ACTGTCGGGAATTCCCGAAGGCACTTAAGCGGAGTCTTAGCGTACAGTAACGCAGTCCCGCGTGAACGACTGACAGATGA\n",
    "'''\n",
    "```\n",
    "\n",
    "1. Supprimez la ligne de commentaire et combinez les 4 lignes de symboles nucléotidiques en une seule chaîne (4 points)\n",
    "2. Construire une matrice de transition de Markov empirique pour les probabilités de transition de n'importe quel nucléotide à n'importe quel autre nucléotide de cette chaîne (8 points)\n",
    "3. Trouver la distribution stationaire de cette chaine ( Utiliser les vecteurs propre de $M^T$) (8 points)"
   ]
  },
  {
   "cell_type": "code",
   "execution_count": 33,
   "metadata": {},
   "outputs": [
    {
     "data": {
      "text/plain": [
       "\"TTAGGCAGTAACCCCGCGATAGGTAGAGCACGCAATCGTCAAGGCGTGCGGTAGGGCTTCCGTGTCTTACCCAAAGAAACGACGTAACGTTCCCCGGGCGGTTAAACCAAATCCACTTCACCAACGGCATAACGCGAAGCCCAAACTAAATCGCGCTCGAGCGGACGCACATTCGCTAGGCTGTGTAGGGGCAGTCTCCGTTAAGGACGATTACCACGTGATGGTAGTTCGCAACATTGGACTGTCGGGAATTCCCGAAGGCACTTAAGCGGAGTCTTAGCGTACAGTAACGCAGTCCCGCGTGAACGACTGACAGATGA'\""
      ]
     },
     "execution_count": 33,
     "metadata": {},
     "output_type": "execute_result"
    }
   ],
   "source": [
    "dna = '''> A simulated DNA sequence.\n",
    "TTAGGCAGTAACCCCGCGATAGGTAGAGCACGCAATCGTCAAGGCGTGCGGTAGGGCTTCCGTGTCTTACCCAAAGAAAC\n",
    "GACGTAACGTTCCCCGGGCGGTTAAACCAAATCCACTTCACCAACGGCATAACGCGAAGCCCAAACTAAATCGCGCTCGA\n",
    "GCGGACGCACATTCGCTAGGCTGTGTAGGGGCAGTCTCCGTTAAGGACGATTACCACGTGATGGTAGTTCGCAACATTGG\n",
    "ACTGTCGGGAATTCCCGAAGGCACTTAAGCGGAGTCTTAGCGTACAGTAACGCAGTCCCGCGTGAACGACTGACAGATGA'\n",
    "'''\n",
    "seq = ''.join(dna.strip().split('\\n')[1:])\n",
    "seq"
   ]
  },
  {
   "cell_type": "code",
   "execution_count": 34,
   "metadata": {},
   "outputs": [
    {
     "data": {
      "text/plain": [
       "array([[0., 0., 0., 0.],\n",
       "       [0., 0., 0., 0.],\n",
       "       [0., 0., 0., 0.],\n",
       "       [0., 0., 0., 0.]])"
      ]
     },
     "execution_count": 34,
     "metadata": {},
     "output_type": "execute_result"
    }
   ],
   "source": [
    "M=np.zeros((4,4))\n",
    "M"
   ]
  },
  {
   "cell_type": "code",
   "execution_count": 36,
   "metadata": {},
   "outputs": [
    {
     "data": {
      "text/plain": [
       "Counter({('T', 'T'): 14,\n",
       "         ('T', 'A'): 19,\n",
       "         ('A', 'G'): 22,\n",
       "         ('G', 'G'): 22,\n",
       "         ('G', 'C'): 24,\n",
       "         ('C', 'A'): 21,\n",
       "         ('G', 'T'): 23,\n",
       "         ('A', 'A'): 26,\n",
       "         ('A', 'C'): 25,\n",
       "         ('C', 'C'): 20,\n",
       "         ('C', 'G'): 33,\n",
       "         ('G', 'A'): 19,\n",
       "         ('A', 'T'): 11,\n",
       "         ('T', 'C'): 17,\n",
       "         ('T', 'G'): 11,\n",
       "         ('C', 'T'): 12,\n",
       "         ('A', \"'\"): 1})"
      ]
     },
     "execution_count": 36,
     "metadata": {},
     "output_type": "execute_result"
    }
   ],
   "source": [
    "pairs = zip(seq, seq[1:])\n",
    "from collections import Counter\n",
    "c=Counter(pairs)\n",
    "c"
   ]
  },
  {
   "cell_type": "code",
   "execution_count": 37,
   "metadata": {},
   "outputs": [
    {
     "data": {
      "text/plain": [
       "{('T', 'C'): 17,\n",
       " ('A', 'G'): 22,\n",
       " ('T', 'T'): 14,\n",
       " ('G', 'G'): 22,\n",
       " ('A', 'A'): 26,\n",
       " ('G', 'A'): 19,\n",
       " ('C', 'T'): 12,\n",
       " ('C', 'C'): 20,\n",
       " ('A', \"'\"): 1,\n",
       " ('C', 'A'): 21,\n",
       " ('G', 'T'): 23,\n",
       " ('C', 'G'): 33,\n",
       " ('G', 'C'): 24,\n",
       " ('A', 'C'): 25,\n",
       " ('T', 'A'): 19,\n",
       " ('A', 'T'): 11,\n",
       " ('T', 'G'): 11}"
      ]
     },
     "execution_count": 37,
     "metadata": {},
     "output_type": "execute_result"
    }
   ],
   "source": [
    "s={u for u in zip(seq, seq[1:])} \n",
    "l=[u for u in zip(seq, seq[1:])]\n",
    "from functools import reduce\n",
    "l.count(('T','T'))\n",
    "dic={u:l.count(u) for u in s}\n",
    "dic"
   ]
  },
  {
   "cell_type": "code",
   "execution_count": 45,
   "metadata": {},
   "outputs": [
    {
     "data": {
      "text/plain": [
       "array([[26., 25., 11., 22.],\n",
       "       [21., 20., 12., 33.],\n",
       "       [19., 17., 14., 11.],\n",
       "       [19., 24., 23., 22.]])"
      ]
     },
     "execution_count": 45,
     "metadata": {},
     "output_type": "execute_result"
    }
   ],
   "source": [
    "M = np.zeros((4,4))\n",
    "for i, x in enumerate('ACTG'):\n",
    "    for j, y in enumerate('ACTG'):\n",
    "        M[i, j] = c[(x, y)]\n",
    "M"
   ]
  },
  {
   "cell_type": "code",
   "execution_count": 40,
   "metadata": {},
   "outputs": [
    {
     "data": {
      "text/plain": [
       "array([[26., 25., 11., 22.],\n",
       "       [21., 20., 12., 33.],\n",
       "       [19., 17., 14., 11.],\n",
       "       [19., 24., 23., 22.]])"
      ]
     },
     "execution_count": 40,
     "metadata": {},
     "output_type": "execute_result"
    }
   ],
   "source": [
    "MM= np.zeros((4,4))\n",
    "for i, x in enumerate('ACTG'):\n",
    "    for j, y in enumerate('ACTG'):\n",
    "        MM[i, j] = dic[(x, y)]\n",
    "MM"
   ]
  },
  {
   "cell_type": "code",
   "execution_count": 46,
   "metadata": {},
   "outputs": [
    {
     "data": {
      "text/plain": [
       "(array([[26., 25., 11., 22.],\n",
       "        [21., 20., 12., 33.],\n",
       "        [19., 17., 14., 11.],\n",
       "        [19., 24., 23., 22.]]),\n",
       " array([[84.],\n",
       "        [86.],\n",
       "        [61.],\n",
       "        [88.]]))"
      ]
     },
     "execution_count": 46,
     "metadata": {},
     "output_type": "execute_result"
    }
   ],
   "source": [
    "w=M.sum(axis=1).reshape(4,1)\n",
    "w\n",
    "M,w\n"
   ]
  },
  {
   "cell_type": "code",
   "execution_count": 47,
   "metadata": {},
   "outputs": [
    {
     "data": {
      "text/plain": [
       "array([[0.30952381, 0.29761905, 0.13095238, 0.26190476],\n",
       "       [0.24418605, 0.23255814, 0.13953488, 0.38372093],\n",
       "       [0.31147541, 0.27868852, 0.2295082 , 0.18032787],\n",
       "       [0.21590909, 0.27272727, 0.26136364, 0.25      ]])"
      ]
     },
     "execution_count": 47,
     "metadata": {},
     "output_type": "execute_result"
    }
   ],
   "source": [
    "M = M/w\n",
    "M"
   ]
  },
  {
   "cell_type": "code",
   "execution_count": 49,
   "metadata": {},
   "outputs": [
    {
     "data": {
      "text/plain": [
       "array([ 1.        +0.j       ,  0.03786645+0.0984321j,\n",
       "        0.03786645-0.0984321j, -0.05414276+0.j       ])"
      ]
     },
     "execution_count": 49,
     "metadata": {},
     "output_type": "execute_result"
    }
   ],
   "source": [
    "e, v = la.eig(M.T)\n",
    "e"
   ]
  },
  {
   "cell_type": "code",
   "execution_count": 50,
   "metadata": {},
   "outputs": [
    {
     "data": {
      "text/plain": [
       "array([[ 0.52737509+0.j        , -0.26318022-0.44557586j,\n",
       "        -0.26318022+0.44557586j,  0.40452326+0.j        ],\n",
       "       [ 0.533761  +0.j        , -0.08281119-0.03767378j,\n",
       "        -0.08281119+0.03767378j, -0.51932821+0.j        ],\n",
       "       [ 0.37172   +0.j        ,  0.63696557+0.j        ,\n",
       "         0.63696557-0.j        , -0.47178041+0.j        ],\n",
       "       [ 0.54662505+0.j        , -0.29097417+0.48324964j,\n",
       "        -0.29097417-0.48324964j,  0.58658536+0.j        ]])"
      ]
     },
     "execution_count": 50,
     "metadata": {},
     "output_type": "execute_result"
    }
   ],
   "source": [
    "v "
   ]
  },
  {
   "cell_type": "code",
   "execution_count": 51,
   "metadata": {},
   "outputs": [
    {
     "data": {
      "text/plain": [
       "array([0.52737509, 0.533761  , 0.37172   , 0.54662505])"
      ]
     },
     "execution_count": 51,
     "metadata": {},
     "output_type": "execute_result"
    }
   ],
   "source": [
    "v = np.real_if_close(v[:, 0])\n",
    "v"
   ]
  },
  {
   "cell_type": "code",
   "execution_count": 52,
   "metadata": {},
   "outputs": [],
   "source": [
    "p = v/v.sum()"
   ]
  },
  {
   "cell_type": "code",
   "execution_count": 53,
   "metadata": {},
   "outputs": [
    {
     "data": {
      "text/plain": [
       "array([0.26642087, 0.26964692, 0.18778658, 0.27614562])"
      ]
     },
     "execution_count": 53,
     "metadata": {},
     "output_type": "execute_result"
    }
   ],
   "source": [
    "p"
   ]
  },
  {
   "cell_type": "code",
   "execution_count": 54,
   "metadata": {},
   "outputs": [
    {
     "data": {
      "text/plain": [
       "array([0.26642087, 0.26964692, 0.18778658, 0.27614562])"
      ]
     },
     "execution_count": 54,
     "metadata": {},
     "output_type": "execute_result"
    }
   ],
   "source": [
    "p @ M"
   ]
  },
  {
   "cell_type": "markdown",
   "metadata": {},
   "source": [
    "**3**. (20 points)\n",
    "\n",
    "Une laitière est au point A et doit se rendre au point B. Cependant, elle doit également remplir un seau d'eau de la rivière en route de A à B. L'équation du chemin de la rivière est illustrée dans la figure ci-dessous. Quelle est la distance minimale qu'elle doit parcourir pour faire cela ?\n",
    "\n",
    "1. Résoudre ce problème avec  `scipy.optimize` et la minimisation avec contraintes (15 points)\n",
    "2. Representer la solution (5 point)\n",
    "\n",
    "![Milkmaid problem](data/milkmaid.png)\n",
    "\n",
    "Hint: Il y a un optimum global et local pour ce problème "
   ]
  },
  {
   "cell_type": "code",
   "execution_count": 57,
   "metadata": {},
   "outputs": [],
   "source": [
    "import scipy.optimize as opt"
   ]
  },
  {
   "cell_type": "code",
   "execution_count": 81,
   "metadata": {},
   "outputs": [
    {
     "name": "stdout",
     "output_type": "stream",
     "text": [
      "Distance minimale 9.963398299572699\n"
     ]
    },
    {
     "data": {
      "text/plain": [
       "     fun: 9.963398299572699\n",
       "     jac: array([-1.65293813, -0.38808024])\n",
       " message: 'Optimization terminated successfully.'\n",
       "    nfev: 37\n",
       "     nit: 9\n",
       "    njev: 9\n",
       "  status: 0\n",
       " success: True\n",
       "       x: array([0.53225978, 6.5263085 ])"
      ]
     },
     "execution_count": 81,
     "metadata": {},
     "output_type": "execute_result"
    }
   ],
   "source": [
    "def f(x, A, B):\n",
    "    \"\"\"Distance entre deux points\"\"\"\n",
    "    \n",
    "    return la.norm(x-A) + la.norm(x-B)\n",
    "\n",
    "def g(x):\n",
    "    \"\"\"Equation de la rivière \"\"\"\n",
    "\n",
    "    return 10/(1+x)\n",
    "\n",
    "A = np.array([2,8])\n",
    "B = np.array([8,4])\n",
    "cons = {'type': 'eq', 'fun': lambda x: x[1] - g(x[0])}\n",
    "\n",
    "ms = [opt.minimize(f, [x0, g(x0)], args=(A, B), constraints=cons) for x0 in range(0, 11)]\n",
    "m = min(ms, key=lambda res: res.fun)\n",
    "\n",
    "print(\"Distance minimale\", m.fun)\n",
    "m"
   ]
  },
  {
   "cell_type": "code",
   "execution_count": 62,
   "metadata": {},
   "outputs": [],
   "source": [
    "%matplotlib inline\n",
    "\n",
    "import matplotlib.pyplot as plt"
   ]
  },
  {
   "cell_type": "code",
   "execution_count": 80,
   "metadata": {},
   "outputs": [
    {
     "data": {
      "image/png": "[encoded data removed]",
      "text/plain": [
       "<Figure size 432x288 with 1 Axes>"
      ]
     },
     "metadata": {
      "needs_background": "light"
     },
     "output_type": "display_data"
    }
   ],
   "source": [
    "xp = np.linspace(0, 10, 100)\n",
    "plt.plot(xp, g(xp),label='rivière')\n",
    "plt.plot([A[0], m.x[0], B[0]], [A[1], m.x[1], B[1]], '-o', c='red',label='chemin')\n",
    "plt.ylabel('y')\n",
    "plt.legend()\n",
    "plt.text(2.2,8.2, 'A(2,8)', fontsize=12);\n",
    "plt.text(8.2,4.2, 'B(8,4)', fontsize=12);\n",
    "plt.text(1.2,2., r'$\\{x,\\dfrac{10}{1+x}\\}$', fontsize=12,c='b');"
   ]
  },
  {
   "cell_type": "code",
   "execution_count": null,
   "metadata": {},
   "outputs": [],
   "source": []
  }
 ],
 "metadata": {
  "kernelspec": {
   "display_name": "Python 3",
   "language": "python",
   "name": "python3"
  },
  "language_info": {
   "codemirror_mode": {
    "name": "ipython",
    "version": 3
   },
   "file_extension": ".py",
   "mimetype": "text/x-python",
   "name": "python",
   "nbconvert_exporter": "python",
   "pygments_lexer": "ipython3",
   "version": "3.7.6"
  }
 },
 "nbformat": 4,
 "nbformat_minor": 4
}
