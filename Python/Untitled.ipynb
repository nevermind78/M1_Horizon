{
 "cells": [
  {
   "cell_type": "code",
   "execution_count": 1,
   "id": "3569d916",
   "metadata": {},
   "outputs": [],
   "source": [
    "import numpy as np"
   ]
  },
  {
   "cell_type": "code",
   "execution_count": 2,
   "id": "9983a327",
   "metadata": {},
   "outputs": [
    {
     "name": "stdout",
     "output_type": "stream",
     "text": [
      "1,2,3,4,5\r\n",
      "6,7,8,9,10\r\n",
      "1,3,3,4,6\r\n",
      "1,2,3,4,20\r\n"
     ]
    }
   ],
   "source": [
    "!cat data.csv"
   ]
  },
  {
   "cell_type": "code",
   "execution_count": 3,
   "id": "1db9945b",
   "metadata": {},
   "outputs": [
    {
     "name": "stdout",
     "output_type": "stream",
     "text": [
      "CLASSE.pdf\t      PythonPartie1_V2.pdf  PythonPartie2_V3.pdf\r\n",
      "data\t\t      PythonPartie1_V3.pdf  PythonPartie2_V4.pdf\r\n",
      "data2.csv\t      PythonPartie1_V5.pdf  PythonPartie2_V5.pdf\r\n",
      "data.csv\t      PythonPartie1_V6.pdf  PythonPartie2_V6.pdf\r\n",
      "DICTIONNAIRE.pdf      PythonPartie2_V1.pdf  S1_PythonPartie1_V5.pdf\r\n",
      "PythonPartie1_V1.pdf  PythonPartie2_V2.pdf  Untitled.ipynb\r\n"
     ]
    }
   ],
   "source": [
    "!ls"
   ]
  },
  {
   "cell_type": "code",
   "execution_count": 13,
   "id": "c81b671f",
   "metadata": {},
   "outputs": [
    {
     "name": "stdout",
     "output_type": "stream",
     "text": [
      "[[ 1.  2.  3.  4.  5.]\n",
      " [ 6.  7.  8.  9. 10.]\n",
      " [ 1.  3.  3.  4.  6.]\n",
      " [ 1.  2.  3.  4. 12.]]\n"
     ]
    }
   ],
   "source": [
    "data=np.genfromtxt('data.csv',delimiter=',')\n",
    "print(data)"
   ]
  },
  {
   "cell_type": "code",
   "execution_count": 10,
   "id": "95c866ef",
   "metadata": {},
   "outputs": [
    {
     "data": {
      "text/plain": [
       "numpy.ndarray"
      ]
     },
     "execution_count": 10,
     "metadata": {},
     "output_type": "execute_result"
    }
   ],
   "source": [
    "type(data)"
   ]
  },
  {
   "cell_type": "code",
   "execution_count": 18,
   "id": "d998b196",
   "metadata": {},
   "outputs": [],
   "source": [
    "from numpy import random\n",
    "M=random.standard_normal((30,30))\n"
   ]
  },
  {
   "cell_type": "code",
   "execution_count": 19,
   "id": "e2846087",
   "metadata": {},
   "outputs": [],
   "source": [
    "np.savetxt(\"random_data.csv\",M,fmt='%2.3f',delimiter=',')"
   ]
  },
  {
   "cell_type": "code",
   "execution_count": 20,
   "id": "0e828f01",
   "metadata": {},
   "outputs": [
    {
     "name": "stdout",
     "output_type": "stream",
     "text": [
      "-0.416,1.031,0.099,-1.234,-1.476,-0.132,-0.814,0.364,0.068,0.756,-0.166,1.090,-0.030,-0.259,0.676,0.285,1.326,-0.276,0.783,1.572,-0.118,-0.131,0.040,-0.257,1.251,-1.155,0.639,-0.407,0.364,0.753\r\n",
      "0.786,0.291,0.134,-0.282,-1.166,-0.383,1.248,0.931,0.664,0.687,0.288,0.331,-0.492,0.174,0.502,-0.032,0.579,-1.249,0.307,-0.603,0.768,-0.837,0.668,-0.451,-2.181,1.879,-1.232,-1.460,1.010,2.130\r\n",
      "-1.325,0.102,-1.192,0.940,-0.793,0.766,0.960,-1.379,-1.676,0.673,-1.067,0.451,-0.789,1.386,-0.967,1.357,-0.307,0.036,-0.241,0.197,-0.708,0.117,0.125,0.099,-0.353,1.150,-0.041,0.968,-0.381,0.432\r\n",
      "-1.053,-0.091,1.398,-1.798,0.410,-0.750,0.537,-0.785,-0.512,0.709,1.295,-0.705,-0.793,0.940,1.163,0.079,1.727,0.597,-0.459,2.367,0.069,-0.163,0.821,0.334,-0.410,0.147,-1.989,0.517,0.096,-0.410\r\n",
      "-0.213,-0.066,-0.703,-1.048,-1.277,-1.747,0.085,1.250,0.050,-0.021,0.598,-0.153,-1.595,-0.302,-0.103,1.297,-2.410,1.183,1.250,-1.889,-0.306,0.709,1.598,0.395,1.656,0.100,-0.335,0.511,-0.214,0.584\r\n",
      "1.495,-0.543,-1.632,-0.227,0.705,0.770,-0.372,0.171,-0.247,-0.536,-0.043,-1.175,0.688,0.406,0.884,0.884,-0.391,0.948,0.870,0.431,1.926,-0.067,-0.608,-0.623,0.666,-0.068,0.711,0.738,-1.607,0.541\r\n",
      "1.502,-1.026,-0.230,0.923,-0.223,-0.235,-1.183,-1.816,-2.337,-0.957,0.877,0.639,-0.221,-2.287,-0.322,0.477,0.236,-1.163,-1.454,-0.191,-1.599,0.190,-0.106,0.047,-1.144,0.836,-1.960,-1.292,0.480,-2.158\r\n",
      "-1.139,0.053,0.672,1.023,0.278,0.800,0.672,-1.415,-1.015,0.367,-0.698,-2.637,-0.751,-0.168,-1.620,0.035,0.847,0.492,2.080,0.183,-1.079,0.844,0.391,-0.275,0.554,-0.950,2.039,-0.596,0.246,0.289\r\n",
      "0.177,-0.805,1.011,-0.617,1.311,-0.356,0.071,-0.580,-0.051,-0.686,1.547,-0.081,2.617,-0.022,0.355,-0.901,1.007,-0.981,-1.202,0.776,1.289,1.093,-0.762,-0.715,0.895,0.929,-1.577,-0.799,1.327,0.664\r\n",
      "-0.928,0.483,1.064,-0.447,-0.154,0.825,-1.119,1.755,0.783,-0.013,2.139,-0.746,0.121,-1.207,0.073,0.452,-0.453,0.539,-1.277,-0.393,-0.721,1.864,2.108,-1.031,-1.157,-1.029,2.042,-1.157,2.075,0.581\r\n",
      "0.307,-0.405,2.422,0.022,-1.294,-0.304,-0.937,-0.577,0.066,0.280,0.107,-0.220,-1.389,-0.976,0.573,1.403,1.669,-0.115,-0.374,1.194,0.299,-1.420,0.457,-0.053,0.452,-1.087,-1.325,0.220,-0.437,-1.275\r\n",
      "1.034,-2.021,-0.469,-0.466,-0.556,-0.352,1.957,0.602,0.357,-0.329,1.423,1.853,0.546,1.551,-0.605,0.782,1.380,1.086,-1.273,0.786,0.300,-1.347,0.951,-0.236,-0.498,-0.405,-0.216,-0.727,-1.426,-0.792\r\n",
      "-0.774,-0.599,-0.264,-0.592,-1.275,1.367,-0.255,0.059,0.376,-0.406,0.470,-1.130,0.080,0.101,0.475,-0.476,0.295,-1.106,0.837,0.092,-1.008,-0.364,-0.501,-0.030,-0.569,-0.159,0.847,-0.540,-0.603,-0.185\r\n",
      "-0.150,-0.981,-0.593,-1.200,-0.575,1.119,0.358,-0.162,0.051,0.523,-1.162,0.408,-0.704,-0.716,1.233,0.453,0.345,-0.006,1.164,0.760,-0.317,1.235,0.684,-0.634,-0.767,0.283,0.814,-1.182,1.142,0.348\r\n",
      "0.212,-0.529,0.423,0.449,0.415,-0.103,-0.053,0.127,0.317,-0.606,0.469,0.360,-0.209,-0.523,0.388,1.231,0.163,-0.469,0.328,1.052,-0.376,0.374,-0.399,2.790,-2.423,-0.589,1.021,0.283,-1.389,0.430\r\n",
      "-0.970,0.345,0.010,2.184,-0.626,0.972,0.445,-2.554,1.185,0.471,-0.381,0.120,-0.800,0.725,1.462,1.657,2.542,-0.579,1.778,-0.917,-0.658,-1.666,-0.739,0.113,1.319,0.274,0.130,-0.010,0.120,-0.064\r\n",
      "-1.862,-0.378,0.074,-0.775,0.096,-1.348,-0.697,0.120,1.069,-2.255,1.033,-0.139,0.290,-0.534,0.247,0.138,-0.442,0.260,-0.357,-0.508,-0.122,-0.496,-0.161,1.465,0.045,-0.819,1.379,1.485,-2.152,-0.517\r\n",
      "-0.562,0.229,-0.121,-0.766,1.445,-2.146,-0.142,-0.364,-0.117,0.183,0.162,-0.047,2.309,1.688,0.591,0.703,-0.636,0.512,0.255,-0.434,1.732,-0.861,-0.821,-0.576,-0.567,-1.380,-1.228,-0.121,0.925,1.663\r\n",
      "-0.528,-0.205,-1.235,0.042,-0.833,0.042,0.275,1.376,-0.241,0.617,0.818,0.267,0.641,-0.037,0.504,0.821,1.301,0.753,-0.156,0.024,-0.317,0.433,1.286,0.495,0.967,0.051,-0.795,-1.267,-0.329,0.319\r\n",
      "1.343,1.002,-0.832,-0.829,-0.539,-0.967,-0.624,-0.001,-0.338,-0.087,0.061,-0.422,0.228,-1.513,0.100,-0.366,0.081,-0.139,1.872,0.797,-0.145,-1.049,0.265,-0.042,-0.534,2.481,1.781,0.205,-0.170,-1.856\r\n",
      "0.922,-1.333,0.319,0.460,0.385,0.508,-0.347,-1.049,0.475,-1.344,0.090,-0.968,-0.031,-1.631,-0.789,-0.089,0.318,-0.016,0.351,0.872,1.271,-0.293,-0.721,-0.312,-0.562,0.069,2.070,-0.051,-0.497,-0.300\r\n",
      "-1.115,-0.000,1.197,-0.059,0.078,1.556,0.007,-1.259,0.432,-1.181,0.212,2.538,-1.918,1.087,0.927,0.957,-0.036,0.538,-0.846,1.071,0.463,0.355,-0.071,0.760,-0.215,-2.254,-0.797,0.836,-0.156,-0.523\r\n",
      "-1.269,0.246,0.490,1.544,-0.149,-0.466,1.594,1.622,-1.936,1.053,0.334,-0.834,-1.231,-0.608,-0.146,-2.013,0.799,-0.356,-0.300,0.273,-0.856,1.311,-0.263,0.858,-1.468,1.147,-1.877,1.183,0.960,0.823\r\n",
      "-1.135,1.771,-1.200,-0.913,0.431,-0.704,0.313,-0.347,0.067,0.118,1.058,-0.521,-0.067,0.171,-1.122,0.183,-0.394,-0.939,-0.160,-0.438,-1.096,-0.448,-0.630,1.949,0.679,-0.130,1.473,0.120,-0.472,1.281\r\n",
      "1.091,-1.962,0.242,0.156,-0.644,-1.407,-0.535,1.898,-0.944,0.741,-0.965,1.028,-0.231,-2.531,2.324,0.862,0.246,-0.096,0.264,-0.371,0.283,-1.134,0.847,-1.016,-0.637,0.738,-0.255,-1.346,0.506,0.118\r\n",
      "0.875,-0.640,0.422,-0.278,-0.397,-0.693,0.190,-2.349,0.552,-0.797,0.343,0.254,0.098,-1.121,-0.974,-0.104,-0.349,-0.205,1.229,0.539,0.944,0.265,-0.283,2.851,0.595,0.473,-0.436,-1.336,0.504,-1.034\r\n",
      "-0.560,0.901,-2.141,-0.134,1.911,0.077,-1.361,-0.082,1.381,1.281,-0.060,-0.507,-0.439,-1.484,-0.342,-0.573,-0.620,2.070,-2.064,-0.530,2.184,-1.633,0.054,-0.652,1.163,1.034,0.304,0.070,-1.012,-0.575\r\n",
      "-1.217,1.238,0.450,0.466,0.627,1.420,0.297,0.980,1.697,-1.360,0.358,-0.422,-0.487,-0.148,-0.174,-0.811,-0.474,-0.779,0.517,-1.312,-0.388,-0.780,0.627,1.694,-0.052,1.901,0.955,0.034,-0.865,0.337\r\n",
      "-0.325,1.120,1.455,0.372,-0.681,2.465,0.772,0.721,0.438,-1.143,-0.867,0.869,-0.785,-0.693,1.147,-1.108,1.289,0.460,0.785,-0.670,0.842,0.251,-0.138,1.798,-0.565,0.240,0.574,-0.226,-0.188,-0.753\r\n",
      "-2.235,0.401,-0.475,-0.488,-1.038,-0.041,-0.139,1.347,1.502,0.604,-0.232,-1.019,-2.084,0.128,-0.415,-0.419,2.042,-0.986,0.385,-1.192,0.414,0.221,0.152,-0.257,-0.009,-1.400,0.531,0.721,0.100,1.716\r\n"
     ]
    }
   ],
   "source": [
    "!cat 'random_data.csv'"
   ]
  },
  {
   "cell_type": "markdown",
   "id": "8a12f47b",
   "metadata": {},
   "source": [
    "## table de la multiplication sousu forme d'un array numpy"
   ]
  },
  {
   "cell_type": "code",
   "execution_count": 37,
   "id": "d6935db6",
   "metadata": {},
   "outputs": [],
   "source": [
    "table=np.array([[i/j**2-j/i**2 for i in range(1,100)] for j in range(1,100)])"
   ]
  },
  {
   "cell_type": "code",
   "execution_count": null,
   "id": "773d6289",
   "metadata": {},
   "outputs": [],
   "source": []
  },
  {
   "cell_type": "code",
   "execution_count": 38,
   "id": "706e437d",
   "metadata": {},
   "outputs": [
    {
     "data": {
      "image/png": "[encoded data removed]",
      "text/plain": [
       "<Figure size 432x288 with 2 Axes>"
      ]
     },
     "metadata": {
      "needs_background": "light"
     },
     "output_type": "display_data"
    }
   ],
   "source": [
    "import matplotlib.pyplot as plt\n",
    "plt.imshow(table)\n",
    "plt.colorbar()\n",
    "plt.show()"
   ]
  },
  {
   "cell_type": "code",
   "execution_count": null,
   "id": "f823326b",
   "metadata": {},
   "outputs": [],
   "source": []
  }
 ],
 "metadata": {
  "kernelspec": {
   "display_name": "Python 3",
   "language": "python",
   "name": "python3"
  },
  "language_info": {
   "codemirror_mode": {
    "name": "ipython",
    "version": 3
   },
   "file_extension": ".py",
   "mimetype": "text/x-python",
   "name": "python",
   "nbconvert_exporter": "python",
   "pygments_lexer": "ipython3",
   "version": "3.8.8"
  }
 },
 "nbformat": 4,
 "nbformat_minor": 5
}
